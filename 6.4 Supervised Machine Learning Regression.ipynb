{
 "cells": [
  {
   "cell_type": "markdown",
   "id": "9f3f381c",
   "metadata": {},
   "source": [
    "### This script contains the following:\n",
    "#### 1. Importing libraries and data\n",
    "#### 2. Data cleaning and Wrangling \n",
    "#### 3. Data prep for regression analysis \n",
    "#### 4. Regression analysis\n",
    "#### 5. Exporting the data"
   ]
  },
  {
   "cell_type": "markdown",
   "id": "3479f862",
   "metadata": {},
   "source": [
    "### 1. Import data and libraries"
   ]
  },
  {
   "cell_type": "code",
   "execution_count": 58,
   "id": "bd781756",
   "metadata": {},
   "outputs": [],
   "source": [
    "import pandas as pd\n",
    "import numpy as np\n",
    "import seaborn as sns\n",
    "import matplotlib\n",
    "import matplotlib.pyplot as plt\n",
    "import os\n",
    "import sklearn\n",
    "from sklearn.model_selection import train_test_split\n",
    "from sklearn.linear_model import LinearRegression\n",
    "from sklearn.metrics import mean_squared_error, r2_score"
   ]
  },
  {
   "cell_type": "code",
   "execution_count": 59,
   "id": "f86584c7",
   "metadata": {},
   "outputs": [],
   "source": [
    "path = r'C:\\Users\\tee3a\\3D Objects\\Project 6'\n",
    "df_airline = pd.read_csv(os.path.join(path, '02 Data','Prepared Data for storing any manipulated data sets', 'flavors_of_cacao_visuals.csv'), index_col = False)"
   ]
  },
  {
   "cell_type": "markdown",
   "id": "37cff707",
   "metadata": {},
   "source": [
    "##### This command propts matplotlib visuals to appear in the notebook"
   ]
  },
  {
   "cell_type": "code",
   "execution_count": 60,
   "id": "7b045d3e",
   "metadata": {},
   "outputs": [],
   "source": [
    "%matplotlib inline"
   ]
  },
  {
   "cell_type": "markdown",
   "id": "686ef271",
   "metadata": {},
   "source": [
    "#### 2. Data cleaning and Wrangling "
   ]
  },
  {
   "cell_type": "code",
   "execution_count": 61,
   "id": "c52e94df",
   "metadata": {},
   "outputs": [],
   "source": [
    "df4 = df_airline.drop(columns = ['Unnamed: 0'])"
   ]
  },
  {
   "cell_type": "code",
   "execution_count": 62,
   "id": "bba80595",
   "metadata": {
    "scrolled": true
   },
   "outputs": [
    {
     "data": {
      "text/html": [
       "<div>\n",
       "<style scoped>\n",
       "    .dataframe tbody tr th:only-of-type {\n",
       "        vertical-align: middle;\n",
       "    }\n",
       "\n",
       "    .dataframe tbody tr th {\n",
       "        vertical-align: top;\n",
       "    }\n",
       "\n",
       "    .dataframe thead th {\n",
       "        text-align: right;\n",
       "    }\n",
       "</style>\n",
       "<table border=\"1\" class=\"dataframe\">\n",
       "  <thead>\n",
       "    <tr style=\"text-align: right;\">\n",
       "      <th></th>\n",
       "      <th>Company Maker</th>\n",
       "      <th>Specific Bean Origin or Bar Name</th>\n",
       "      <th>REF</th>\n",
       "      <th>Review Date</th>\n",
       "      <th>Cocoa Percent</th>\n",
       "      <th>Company Location</th>\n",
       "      <th>Rating</th>\n",
       "      <th>Bean Type</th>\n",
       "      <th>Broad Bean Origin</th>\n",
       "      <th>Rating category</th>\n",
       "    </tr>\n",
       "  </thead>\n",
       "  <tbody>\n",
       "    <tr>\n",
       "      <th>0</th>\n",
       "      <td>A. Morin</td>\n",
       "      <td>Agua Grande</td>\n",
       "      <td>1876</td>\n",
       "      <td>2016</td>\n",
       "      <td>63.0</td>\n",
       "      <td>France</td>\n",
       "      <td>3.75</td>\n",
       "      <td>xao</td>\n",
       "      <td>Sao Tome</td>\n",
       "      <td>Middle rating</td>\n",
       "    </tr>\n",
       "  </tbody>\n",
       "</table>\n",
       "</div>"
      ],
      "text/plain": [
       "  Company Maker Specific Bean Origin or Bar Name   REF  Review Date  \\\n",
       "0      A. Morin                      Agua Grande  1876         2016   \n",
       "\n",
       "   Cocoa Percent Company Location  Rating Bean Type Broad Bean Origin  \\\n",
       "0           63.0           France    3.75       xao          Sao Tome   \n",
       "\n",
       "  Rating category  \n",
       "0   Middle rating  "
      ]
     },
     "execution_count": 62,
     "metadata": {},
     "output_type": "execute_result"
    }
   ],
   "source": [
    "df4.head(1)"
   ]
  },
  {
   "cell_type": "code",
   "execution_count": 63,
   "id": "b9bf1e76",
   "metadata": {},
   "outputs": [
    {
     "data": {
      "text/plain": [
       "Company Maker                       0\n",
       "Specific Bean Origin or Bar Name    0\n",
       "REF                                 0\n",
       "Review Date                         0\n",
       "Cocoa Percent                       0\n",
       "Company Location                    0\n",
       "Rating                              0\n",
       "Bean Type                           0\n",
       "Broad Bean Origin                   1\n",
       "Rating category                     0\n",
       "dtype: int64"
      ]
     },
     "execution_count": 63,
     "metadata": {},
     "output_type": "execute_result"
    }
   ],
   "source": [
    "# identifying the rows with missing values\n",
    "df4.isnull().sum()"
   ]
  },
  {
   "cell_type": "code",
   "execution_count": 64,
   "id": "914f1119",
   "metadata": {},
   "outputs": [
    {
     "data": {
      "text/html": [
       "<div>\n",
       "<style scoped>\n",
       "    .dataframe tbody tr th:only-of-type {\n",
       "        vertical-align: middle;\n",
       "    }\n",
       "\n",
       "    .dataframe tbody tr th {\n",
       "        vertical-align: top;\n",
       "    }\n",
       "\n",
       "    .dataframe thead th {\n",
       "        text-align: right;\n",
       "    }\n",
       "</style>\n",
       "<table border=\"1\" class=\"dataframe\">\n",
       "  <thead>\n",
       "    <tr style=\"text-align: right;\">\n",
       "      <th></th>\n",
       "      <th>Company Maker</th>\n",
       "      <th>Specific Bean Origin or Bar Name</th>\n",
       "      <th>REF</th>\n",
       "      <th>Review Date</th>\n",
       "      <th>Cocoa Percent</th>\n",
       "      <th>Company Location</th>\n",
       "      <th>Rating</th>\n",
       "      <th>Bean Type</th>\n",
       "      <th>Broad Bean Origin</th>\n",
       "      <th>Rating category</th>\n",
       "    </tr>\n",
       "  </thead>\n",
       "  <tbody>\n",
       "    <tr>\n",
       "      <th>1787</th>\n",
       "      <td>Zotter</td>\n",
       "      <td>Indianer, Raw</td>\n",
       "      <td>883</td>\n",
       "      <td>2012</td>\n",
       "      <td>58.0</td>\n",
       "      <td>Austria</td>\n",
       "      <td>3.5</td>\n",
       "      <td>xao</td>\n",
       "      <td>NaN</td>\n",
       "      <td>Middle rating</td>\n",
       "    </tr>\n",
       "  </tbody>\n",
       "</table>\n",
       "</div>"
      ],
      "text/plain": [
       "     Company Maker Specific Bean Origin or Bar Name  REF  Review Date  \\\n",
       "1787        Zotter                    Indianer, Raw  883         2012   \n",
       "\n",
       "      Cocoa Percent Company Location  Rating Bean Type Broad Bean Origin  \\\n",
       "1787           58.0          Austria     3.5       xao               NaN   \n",
       "\n",
       "     Rating category  \n",
       "1787   Middle rating  "
      ]
     },
     "execution_count": 64,
     "metadata": {},
     "output_type": "execute_result"
    }
   ],
   "source": [
    "df4_nan =  df4[df4['Broad Bean Origin'].isnull() == True]\n",
    "df4_nan"
   ]
  },
  {
   "cell_type": "code",
   "execution_count": 65,
   "id": "e35724f4",
   "metadata": {},
   "outputs": [
    {
     "data": {
      "text/plain": [
       "Company Maker                       0\n",
       "Specific Bean Origin or Bar Name    0\n",
       "REF                                 0\n",
       "Review Date                         0\n",
       "Cocoa Percent                       0\n",
       "Company Location                    0\n",
       "Rating                              0\n",
       "Bean Type                           0\n",
       "Broad Bean Origin                   0\n",
       "Rating category                     0\n",
       "dtype: int64"
      ]
     },
     "execution_count": 65,
     "metadata": {},
     "output_type": "execute_result"
    }
   ],
   "source": [
    "# create a new dataframe to clean products\n",
    "df4_clean = df4_clean[df4_clean['Broad Bean Origin'].isnull() == False]\n",
    "df4_clean.isnull().sum()"
   ]
  },
  {
   "cell_type": "markdown",
   "id": "2c258f74",
   "metadata": {},
   "source": [
    "#### 3. Data prep for regression analysis "
   ]
  },
  {
   "cell_type": "code",
   "execution_count": 66,
   "id": "89ed820a",
   "metadata": {},
   "outputs": [
    {
     "name": "stdout",
     "output_type": "stream",
     "text": [
      "<class 'pandas.core.frame.DataFrame'>\n",
      "RangeIndex: 1793 entries, 0 to 1792\n",
      "Data columns (total 10 columns):\n",
      " #   Column                            Non-Null Count  Dtype  \n",
      "---  ------                            --------------  -----  \n",
      " 0   Company Maker                     1793 non-null   object \n",
      " 1   Specific Bean Origin or Bar Name  1793 non-null   object \n",
      " 2   REF                               1793 non-null   int64  \n",
      " 3   Review Date                       1793 non-null   int64  \n",
      " 4   Cocoa Percent                     1793 non-null   float64\n",
      " 5   Company Location                  1793 non-null   object \n",
      " 6   Rating                            1793 non-null   float64\n",
      " 7   Bean Type                         1793 non-null   object \n",
      " 8   Broad Bean Origin                 1792 non-null   object \n",
      " 9   Rating category                   1793 non-null   object \n",
      "dtypes: float64(2), int64(2), object(6)\n",
      "memory usage: 140.2+ KB\n"
     ]
    }
   ],
   "source": [
    "df4.info()"
   ]
  },
  {
   "cell_type": "markdown",
   "id": "66ba2bd7",
   "metadata": {},
   "source": [
    "##### Create a scatterplot using matplotlib for another look at how the chosen variables plot against each other"
   ]
  },
  {
   "cell_type": "code",
   "execution_count": 67,
   "id": "d7a0ed2f",
   "metadata": {},
   "outputs": [
    {
     "data": {
      "image/png": "[encoded data removed]",
      "text/plain": [
       "<Figure size 640x480 with 1 Axes>"
      ]
     },
     "metadata": {},
     "output_type": "display_data"
    }
   ],
   "source": [
    "df4.plot(x = 'Cocoa Percent', y='Rating',style='o')\n",
    "plt.title('Cocoa Percent vs Rating') \n",
    "plt.xlabel('Cocoa Percent')  \n",
    "plt.ylabel('Rating')\n",
    "plt.show()"
   ]
  },
  {
   "cell_type": "markdown",
   "id": "5b1a26fd",
   "metadata": {},
   "source": [
    "#####  Reshape the variables into NumPy arrays and put them into separate objects."
   ]
  },
  {
   "cell_type": "code",
   "execution_count": 68,
   "id": "5644a0ad",
   "metadata": {},
   "outputs": [],
   "source": [
    "X = df4['Cocoa Percent'].values.reshape(-1,1)\n",
    "y = df4['Rating'].values.reshape(-1,1)"
   ]
  },
  {
   "cell_type": "code",
   "execution_count": 69,
   "id": "e19d47be",
   "metadata": {},
   "outputs": [
    {
     "data": {
      "text/plain": [
       "array([[63.],\n",
       "       [70.],\n",
       "       [70.],\n",
       "       ...,\n",
       "       [65.],\n",
       "       [62.],\n",
       "       [65.]])"
      ]
     },
     "execution_count": 69,
     "metadata": {},
     "output_type": "execute_result"
    }
   ],
   "source": [
    "X"
   ]
  },
  {
   "cell_type": "code",
   "execution_count": 70,
   "id": "a9ade9f6",
   "metadata": {},
   "outputs": [
    {
     "data": {
      "text/plain": [
       "array([[3.75],\n",
       "       [2.75],\n",
       "       [3.  ],\n",
       "       ...,\n",
       "       [3.5 ],\n",
       "       [3.25],\n",
       "       [3.  ]])"
      ]
     },
     "execution_count": 70,
     "metadata": {},
     "output_type": "execute_result"
    }
   ],
   "source": [
    "y"
   ]
  },
  {
   "cell_type": "markdown",
   "id": "4ba53c8a",
   "metadata": {},
   "source": [
    "##### Split data into a training set and a test set"
   ]
  },
  {
   "cell_type": "code",
   "execution_count": 71,
   "id": "9cc977f2",
   "metadata": {},
   "outputs": [],
   "source": [
    "X_train, X_test, y_train, y_test = train_test_split(X, y, test_size=0.3, random_state=0)"
   ]
  },
  {
   "cell_type": "markdown",
   "id": "62fceb24",
   "metadata": {},
   "source": [
    "### 4. Regression analysis"
   ]
  },
  {
   "cell_type": "markdown",
   "id": "fa7160a1",
   "metadata": {},
   "source": [
    "#### Create a regression object"
   ]
  },
  {
   "cell_type": "code",
   "execution_count": 72,
   "id": "910b9f47",
   "metadata": {},
   "outputs": [],
   "source": [
    "regression = LinearRegression()"
   ]
  },
  {
   "cell_type": "code",
   "execution_count": 73,
   "id": "6c0cb1a6",
   "metadata": {},
   "outputs": [
    {
     "data": {
      "text/plain": [
       "LinearRegression(normalize=False)"
      ]
     },
     "execution_count": 73,
     "metadata": {},
     "output_type": "execute_result"
    }
   ],
   "source": [
    "LinearRegression(copy_X=True, fit_intercept=True, n_jobs=None, normalize=False)"
   ]
  },
  {
   "cell_type": "markdown",
   "id": "b72f33ad",
   "metadata": {},
   "source": [
    "#### Fit the regression object onto the training set"
   ]
  },
  {
   "cell_type": "code",
   "execution_count": 74,
   "id": "05a1d114",
   "metadata": {},
   "outputs": [
    {
     "data": {
      "text/plain": [
       "LinearRegression()"
      ]
     },
     "execution_count": 74,
     "metadata": {},
     "output_type": "execute_result"
    }
   ],
   "source": [
    "regression.fit(X_train, y_train)"
   ]
  },
  {
   "cell_type": "markdown",
   "id": "bf5c8f13",
   "metadata": {},
   "source": [
    "#### Predict the values of y using X\n",
    "#### Create a plot that shows the regression line from the model on the test set"
   ]
  },
  {
   "cell_type": "code",
   "execution_count": 75,
   "id": "3eae7c61",
   "metadata": {},
   "outputs": [],
   "source": [
    "y_predicted = regression.predict(X_test)"
   ]
  },
  {
   "cell_type": "code",
   "execution_count": 76,
   "id": "136d1171",
   "metadata": {},
   "outputs": [
    {
     "data": {
      "image/png": "[encoded data removed]",
      "text/plain": [
       "<Figure size 640x480 with 1 Axes>"
      ]
     },
     "metadata": {},
     "output_type": "display_data"
    }
   ],
   "source": [
    "plot_test = plt\n",
    "plot_test.scatter(X_test, y_test, color='gray', s = 15)\n",
    "plot_test.plot(X_test, y_predicted, color='red', linewidth =3)\n",
    "plot_test.title('Cocoa Percent vs Rating (Test set)')\n",
    "plot_test.xlabel('Cocoa Percent')\n",
    "plot_test.ylabel('Rating')\n",
    "plot_test.show()"
   ]
  },
  {
   "cell_type": "markdown",
   "id": "8984068e",
   "metadata": {},
   "source": [
    "#### Create objects that contain the model summary statistics"
   ]
  },
  {
   "cell_type": "code",
   "execution_count": 77,
   "id": "e66ba1fe",
   "metadata": {},
   "outputs": [],
   "source": [
    "rmse = mean_squared_error(y_test, y_predicted) # This is the mean squared error\n",
    "r2 = r2_score(y_test, y_predicted) # This is the R2 score."
   ]
  },
  {
   "cell_type": "markdown",
   "id": "d3997536",
   "metadata": {},
   "source": [
    "#### Print the model summary statistics. This is where you evaluate the performance of the model"
   ]
  },
  {
   "cell_type": "code",
   "execution_count": 78,
   "id": "b047c372",
   "metadata": {},
   "outputs": [
    {
     "name": "stdout",
     "output_type": "stream",
     "text": [
      "Slope: [[-0.01359092]]\n",
      "Mean squared error:  0.22104174794163592\n",
      "R2 score:  0.013527618100036332\n"
     ]
    }
   ],
   "source": [
    "print('Slope:' ,regression.coef_)\n",
    "print('Mean squared error: ', rmse)\n",
    "print('R2 score: ', r2)"
   ]
  },
  {
   "cell_type": "markdown",
   "id": "9db0064d",
   "metadata": {},
   "source": [
    "#### The models outcome on the training set is very similar to that on the test set.  With the MSE being even larger on the train set.  Confirming that this is not a good model to use.  This proves that the Cocoa Percent are not the driving factor of chocolate Ratings. There might be other variables contributing to the chocolate Ratings apart from the Cocoa percent in each chocolate."
   ]
  },
  {
   "cell_type": "markdown",
   "id": "5c6016ee",
   "metadata": {},
   "source": [
    "#### Create a dataframe comparing the actual and predicted values of y"
   ]
  },
  {
   "cell_type": "code",
   "execution_count": 79,
   "id": "81d48b91",
   "metadata": {},
   "outputs": [
    {
     "data": {
      "text/plain": [
       "array([[3.21301331],\n",
       "       [3.14505871],\n",
       "       [3.18583147],\n",
       "       [3.21301331],\n",
       "       [3.21301331],\n",
       "       [3.14505871],\n",
       "       [3.14505871],\n",
       "       [3.18583147],\n",
       "       [3.14505871],\n",
       "       [3.21301331],\n",
       "       [3.24019515],\n",
       "       [3.14505871],\n",
       "       [2.94119493],\n",
       "       [3.21301331],\n",
       "       [3.2809679 ],\n",
       "       [3.21301331],\n",
       "       [3.21301331],\n",
       "       [3.21301331],\n",
       "       [3.18583147],\n",
       "       [3.18583147],\n",
       "       [3.4168771 ],\n",
       "       [3.21301331],\n",
       "       [3.29455882],\n",
       "       [3.11787688],\n",
       "       [3.33533158],\n",
       "       [3.03633136],\n",
       "       [3.14505871],\n",
       "       [3.21301331],\n",
       "       [3.21301331],\n",
       "       [3.2809679 ],\n",
       "       [3.24019515],\n",
       "       [3.21301331],\n",
       "       [3.13146779],\n",
       "       [3.21301331],\n",
       "       [3.14505871],\n",
       "       [3.3489225 ],\n",
       "       [3.21301331],\n",
       "       [3.19942239],\n",
       "       [3.21301331],\n",
       "       [3.21301331],\n",
       "       [3.13146779],\n",
       "       [3.07710412],\n",
       "       [3.18583147],\n",
       "       [3.17224055],\n",
       "       [3.07710412],\n",
       "       [3.14505871],\n",
       "       [3.21301331],\n",
       "       [3.21301331],\n",
       "       [3.14505871],\n",
       "       [3.3489225 ],\n",
       "       [3.21301331],\n",
       "       [3.14505871],\n",
       "       [3.2809679 ],\n",
       "       [3.21301331],\n",
       "       [3.2809679 ],\n",
       "       [3.14505871],\n",
       "       [3.24019515],\n",
       "       [3.21301331],\n",
       "       [3.11787688],\n",
       "       [3.00914952],\n",
       "       [3.21301331],\n",
       "       [3.21301331],\n",
       "       [3.21301331],\n",
       "       [3.24019515],\n",
       "       [3.21301331],\n",
       "       [3.2809679 ],\n",
       "       [3.21301331],\n",
       "       [3.18583147],\n",
       "       [3.18583147],\n",
       "       [3.11787688],\n",
       "       [3.21301331],\n",
       "       [3.21301331],\n",
       "       [3.21301331],\n",
       "       [3.18583147],\n",
       "       [3.19942239],\n",
       "       [3.14505871],\n",
       "       [3.3489225 ],\n",
       "       [3.21301331],\n",
       "       [3.07710412],\n",
       "       [2.94119493],\n",
       "       [3.14505871],\n",
       "       [3.15864963],\n",
       "       [3.21301331],\n",
       "       [3.18583147],\n",
       "       [3.21301331],\n",
       "       [3.14505871],\n",
       "       [3.15864963],\n",
       "       [3.14505871],\n",
       "       [3.18583147],\n",
       "       [3.21301331],\n",
       "       [3.2809679 ],\n",
       "       [3.3489225 ],\n",
       "       [3.18583147],\n",
       "       [3.07710412],\n",
       "       [3.21301331],\n",
       "       [3.3489225 ],\n",
       "       [3.29455882],\n",
       "       [3.0635132 ],\n",
       "       [3.4168771 ],\n",
       "       [3.2809679 ],\n",
       "       [3.14505871],\n",
       "       [3.00914952],\n",
       "       [3.18583147],\n",
       "       [3.13146779],\n",
       "       [3.18583147],\n",
       "       [3.21301331],\n",
       "       [3.21301331],\n",
       "       [3.21301331],\n",
       "       [3.18583147],\n",
       "       [3.21301331],\n",
       "       [3.11787688],\n",
       "       [3.21301331],\n",
       "       [3.21301331],\n",
       "       [3.14505871],\n",
       "       [3.21301331],\n",
       "       [3.21301331],\n",
       "       [3.21301331],\n",
       "       [3.4168771 ],\n",
       "       [3.21301331],\n",
       "       [3.14505871],\n",
       "       [3.21301331],\n",
       "       [3.21301331],\n",
       "       [3.21301331],\n",
       "       [3.18583147],\n",
       "       [3.21301331],\n",
       "       [3.21301331],\n",
       "       [3.14505871],\n",
       "       [3.21301331],\n",
       "       [3.04992228],\n",
       "       [3.14505871],\n",
       "       [3.07710412],\n",
       "       [3.18583147],\n",
       "       [3.14505871],\n",
       "       [3.14505871],\n",
       "       [3.21301331],\n",
       "       [3.24019515],\n",
       "       [3.14505871],\n",
       "       [3.21301331],\n",
       "       [3.21301331],\n",
       "       [3.21301331],\n",
       "       [3.16544509],\n",
       "       [3.18583147],\n",
       "       [3.21301331],\n",
       "       [3.21301331],\n",
       "       [3.11787688],\n",
       "       [3.18583147],\n",
       "       [3.13146779],\n",
       "       [3.21301331],\n",
       "       [3.29455882],\n",
       "       [3.4168771 ],\n",
       "       [3.21301331],\n",
       "       [3.07710412],\n",
       "       [3.21301331],\n",
       "       [3.21301331],\n",
       "       [3.21301331],\n",
       "       [3.18583147],\n",
       "       [3.21301331],\n",
       "       [3.18583147],\n",
       "       [3.14505871],\n",
       "       [3.10428596],\n",
       "       [3.17224055],\n",
       "       [3.21301331],\n",
       "       [3.21301331],\n",
       "       [3.2809679 ],\n",
       "       [2.95478585],\n",
       "       [3.2809679 ],\n",
       "       [3.21301331],\n",
       "       [3.14505871],\n",
       "       [3.18583147],\n",
       "       [3.2809679 ],\n",
       "       [3.18583147],\n",
       "       [3.2809679 ],\n",
       "       [3.18583147],\n",
       "       [3.17224055],\n",
       "       [3.26737699],\n",
       "       [3.14505871],\n",
       "       [3.21301331],\n",
       "       [3.07710412],\n",
       "       [3.25378607],\n",
       "       [3.15864963],\n",
       "       [3.21301331],\n",
       "       [3.21301331],\n",
       "       [3.14505871],\n",
       "       [2.80528574],\n",
       "       [3.21301331],\n",
       "       [3.21301331],\n",
       "       [3.14505871],\n",
       "       [3.21301331],\n",
       "       [3.22660423],\n",
       "       [3.21301331],\n",
       "       [3.21301331],\n",
       "       [3.18583147],\n",
       "       [3.14505871],\n",
       "       [3.19942239],\n",
       "       [3.15864963],\n",
       "       [3.14505871],\n",
       "       [3.21301331],\n",
       "       [3.14505871],\n",
       "       [3.21301331],\n",
       "       [3.10428596],\n",
       "       [3.14505871],\n",
       "       [3.19942239],\n",
       "       [3.21301331],\n",
       "       [3.13146779],\n",
       "       [3.07710412],\n",
       "       [3.18583147],\n",
       "       [3.07710412],\n",
       "       [3.21301331],\n",
       "       [3.07710412],\n",
       "       [3.21301331],\n",
       "       [3.21301331],\n",
       "       [3.2809679 ],\n",
       "       [3.21301331],\n",
       "       [3.24019515],\n",
       "       [3.21301331],\n",
       "       [3.21301331],\n",
       "       [3.14505871],\n",
       "       [3.14505871],\n",
       "       [3.21301331],\n",
       "       [3.21301331],\n",
       "       [3.21301331],\n",
       "       [3.21301331],\n",
       "       [3.29455882],\n",
       "       [3.29455882],\n",
       "       [3.21301331],\n",
       "       [3.24019515],\n",
       "       [3.21301331],\n",
       "       [3.21301331],\n",
       "       [3.18583147],\n",
       "       [3.21301331],\n",
       "       [3.18583147],\n",
       "       [3.21301331],\n",
       "       [3.14505871],\n",
       "       [3.21301331],\n",
       "       [3.14505871],\n",
       "       [3.14505871],\n",
       "       [3.14505871],\n",
       "       [3.13146779],\n",
       "       [3.00914952],\n",
       "       [3.30814974],\n",
       "       [3.21301331],\n",
       "       [3.3489225 ],\n",
       "       [3.21301331],\n",
       "       [3.21301331],\n",
       "       [3.21301331],\n",
       "       [3.18583147],\n",
       "       [3.26737699],\n",
       "       [3.17224055],\n",
       "       [3.21301331],\n",
       "       [3.15864963],\n",
       "       [3.07710412],\n",
       "       [3.00914952],\n",
       "       [3.3489225 ],\n",
       "       [3.21301331],\n",
       "       [3.21301331],\n",
       "       [3.21301331],\n",
       "       [3.07710412],\n",
       "       [3.3489225 ],\n",
       "       [3.07710412],\n",
       "       [3.2809679 ],\n",
       "       [2.80528574],\n",
       "       [3.18583147],\n",
       "       [3.21301331],\n",
       "       [3.21301331],\n",
       "       [3.07710412],\n",
       "       [3.13146779],\n",
       "       [3.18583147],\n",
       "       [3.4168771 ],\n",
       "       [3.02274044],\n",
       "       [3.3489225 ],\n",
       "       [3.19942239],\n",
       "       [3.21301331],\n",
       "       [3.30814974],\n",
       "       [3.00914952],\n",
       "       [3.21301331],\n",
       "       [3.21301331],\n",
       "       [3.21301331],\n",
       "       [3.21301331],\n",
       "       [3.3489225 ],\n",
       "       [3.14505871],\n",
       "       [3.21301331],\n",
       "       [3.21301331],\n",
       "       [3.21301331],\n",
       "       [3.19942239],\n",
       "       [3.21301331],\n",
       "       [3.24019515],\n",
       "       [3.21301331],\n",
       "       [3.18583147],\n",
       "       [3.21301331],\n",
       "       [3.09069504],\n",
       "       [3.15864963],\n",
       "       [3.21301331],\n",
       "       [3.2809679 ],\n",
       "       [3.14505871],\n",
       "       [3.21301331],\n",
       "       [3.3489225 ],\n",
       "       [3.17903601],\n",
       "       [3.17224055],\n",
       "       [3.00914952],\n",
       "       [3.24019515],\n",
       "       [3.14505871],\n",
       "       [3.21301331],\n",
       "       [3.18583147],\n",
       "       [3.21301331],\n",
       "       [3.21301331],\n",
       "       [3.21301331],\n",
       "       [3.10428596],\n",
       "       [3.18583147],\n",
       "       [3.21301331],\n",
       "       [3.21301331],\n",
       "       [3.21301331],\n",
       "       [3.21301331],\n",
       "       [3.25378607],\n",
       "       [3.30814974],\n",
       "       [3.21301331],\n",
       "       [3.21301331],\n",
       "       [3.11787688],\n",
       "       [3.14505871],\n",
       "       [2.94119493],\n",
       "       [3.00914952],\n",
       "       [3.21301331],\n",
       "       [3.4168771 ],\n",
       "       [3.17224055],\n",
       "       [3.32174066],\n",
       "       [3.15864963],\n",
       "       [3.37610434],\n",
       "       [3.14505871],\n",
       "       [3.18583147],\n",
       "       [3.21301331],\n",
       "       [3.21301331],\n",
       "       [3.21301331],\n",
       "       [3.21301331],\n",
       "       [3.04992228],\n",
       "       [3.14505871],\n",
       "       [3.21301331],\n",
       "       [3.18583147],\n",
       "       [3.18583147],\n",
       "       [3.2809679 ],\n",
       "       [2.80528574],\n",
       "       [3.21301331],\n",
       "       [3.14505871],\n",
       "       [3.18583147],\n",
       "       [3.21301331],\n",
       "       [3.14505871],\n",
       "       [3.21301331],\n",
       "       [3.21301331],\n",
       "       [3.18583147],\n",
       "       [3.14505871],\n",
       "       [3.21301331],\n",
       "       [3.14505871],\n",
       "       [3.18583147],\n",
       "       [3.21301331],\n",
       "       [3.21301331],\n",
       "       [3.32174066],\n",
       "       [3.26737699],\n",
       "       [3.21301331],\n",
       "       [3.25378607],\n",
       "       [3.07710412],\n",
       "       [3.29455882],\n",
       "       [3.17224055],\n",
       "       [3.07710412],\n",
       "       [3.13146779],\n",
       "       [3.00914952],\n",
       "       [3.2809679 ],\n",
       "       [3.21301331],\n",
       "       [3.15864963],\n",
       "       [2.96837677],\n",
       "       [3.21301331],\n",
       "       [3.11787688],\n",
       "       [3.18583147],\n",
       "       [3.18583147],\n",
       "       [3.21301331],\n",
       "       [2.95478585],\n",
       "       [3.21301331],\n",
       "       [3.4168771 ],\n",
       "       [3.18583147],\n",
       "       [3.18583147],\n",
       "       [3.16544509],\n",
       "       [3.25378607],\n",
       "       [3.03633136],\n",
       "       [3.19942239],\n",
       "       [3.07710412],\n",
       "       [3.2809679 ],\n",
       "       [3.14505871],\n",
       "       [3.2809679 ],\n",
       "       [3.21301331],\n",
       "       [3.15864963],\n",
       "       [3.29455882],\n",
       "       [3.21301331],\n",
       "       [3.29455882],\n",
       "       [3.14505871],\n",
       "       [3.21301331],\n",
       "       [3.17224055],\n",
       "       [3.21301331],\n",
       "       [3.21301331],\n",
       "       [3.21301331],\n",
       "       [3.21301331],\n",
       "       [3.21301331],\n",
       "       [3.21301331],\n",
       "       [3.07710412],\n",
       "       [3.21301331],\n",
       "       [3.21301331],\n",
       "       [3.00914952],\n",
       "       [3.21301331],\n",
       "       [3.30814974],\n",
       "       [3.00914952],\n",
       "       [3.3489225 ],\n",
       "       [3.21301331],\n",
       "       [3.15864963],\n",
       "       [3.21301331],\n",
       "       [3.18583147],\n",
       "       [3.21301331],\n",
       "       [3.14505871],\n",
       "       [3.21301331],\n",
       "       [2.96837677],\n",
       "       [3.32174066],\n",
       "       [3.21301331],\n",
       "       [3.2809679 ],\n",
       "       [3.17224055],\n",
       "       [3.21301331],\n",
       "       [3.21301331],\n",
       "       [3.21301331],\n",
       "       [3.18583147],\n",
       "       [3.29455882],\n",
       "       [2.96837677],\n",
       "       [3.18583147],\n",
       "       [3.21301331],\n",
       "       [3.11787688],\n",
       "       [3.19942239],\n",
       "       [3.37610434],\n",
       "       [3.14505871],\n",
       "       [3.11787688],\n",
       "       [3.29455882],\n",
       "       [3.21301331],\n",
       "       [3.3489225 ],\n",
       "       [3.21301331],\n",
       "       [3.21301331],\n",
       "       [3.18583147],\n",
       "       [3.21301331],\n",
       "       [3.21301331],\n",
       "       [3.07710412],\n",
       "       [3.25378607],\n",
       "       [3.21301331],\n",
       "       [3.14505871],\n",
       "       [3.21301331],\n",
       "       [3.21301331],\n",
       "       [3.07710412],\n",
       "       [3.21301331],\n",
       "       [3.14505871],\n",
       "       [3.21301331],\n",
       "       [3.21301331],\n",
       "       [3.24019515],\n",
       "       [3.21301331],\n",
       "       [3.25378607],\n",
       "       [3.14505871],\n",
       "       [3.07710412],\n",
       "       [3.14505871],\n",
       "       [3.21301331],\n",
       "       [3.07710412],\n",
       "       [3.33533158],\n",
       "       [3.14505871],\n",
       "       [3.3489225 ],\n",
       "       [3.24019515],\n",
       "       [3.21301331],\n",
       "       [3.21301331],\n",
       "       [3.18583147],\n",
       "       [3.4168771 ],\n",
       "       [3.15864963],\n",
       "       [3.21301331],\n",
       "       [3.21301331],\n",
       "       [3.21301331],\n",
       "       [3.00914952],\n",
       "       [3.15864963],\n",
       "       [3.10428596],\n",
       "       [3.21301331],\n",
       "       [3.17224055],\n",
       "       [3.21301331],\n",
       "       [3.29455882],\n",
       "       [3.21301331],\n",
       "       [3.00914952],\n",
       "       [3.21301331],\n",
       "       [3.3489225 ],\n",
       "       [2.80528574],\n",
       "       [3.21301331],\n",
       "       [3.14505871],\n",
       "       [3.07710412],\n",
       "       [3.18583147],\n",
       "       [3.14505871],\n",
       "       [3.4168771 ],\n",
       "       [3.07710412],\n",
       "       [3.18583147],\n",
       "       [3.21301331],\n",
       "       [3.29455882],\n",
       "       [3.14505871],\n",
       "       [3.21301331],\n",
       "       [3.14505871],\n",
       "       [2.80528574],\n",
       "       [3.21301331],\n",
       "       [3.21301331],\n",
       "       [3.21301331],\n",
       "       [3.33533158],\n",
       "       [3.14505871],\n",
       "       [3.07710412],\n",
       "       [3.04992228],\n",
       "       [3.21301331],\n",
       "       [3.21301331],\n",
       "       [3.21301331],\n",
       "       [3.14505871],\n",
       "       [3.2809679 ],\n",
       "       [3.21301331],\n",
       "       [3.18583147],\n",
       "       [3.29455882],\n",
       "       [2.92760401],\n",
       "       [3.2809679 ],\n",
       "       [3.21301331],\n",
       "       [3.14505871],\n",
       "       [3.04992228],\n",
       "       [3.21301331],\n",
       "       [3.18583147],\n",
       "       [3.10428596],\n",
       "       [3.14505871],\n",
       "       [3.15864963],\n",
       "       [3.21301331],\n",
       "       [3.04992228],\n",
       "       [3.29455882],\n",
       "       [3.25378607],\n",
       "       [3.24019515],\n",
       "       [3.10428596],\n",
       "       [3.15864963],\n",
       "       [3.24019515],\n",
       "       [3.21301331],\n",
       "       [3.21301331],\n",
       "       [3.13146779],\n",
       "       [3.21301331],\n",
       "       [3.14505871],\n",
       "       [3.13146779],\n",
       "       [3.19942239],\n",
       "       [3.18583147]])"
      ]
     },
     "execution_count": 79,
     "metadata": {},
     "output_type": "execute_result"
    }
   ],
   "source": [
    "y_predicted"
   ]
  },
  {
   "cell_type": "code",
   "execution_count": 80,
   "id": "17cf7fe7",
   "metadata": {},
   "outputs": [
    {
     "data": {
      "text/html": [
       "<div>\n",
       "<style scoped>\n",
       "    .dataframe tbody tr th:only-of-type {\n",
       "        vertical-align: middle;\n",
       "    }\n",
       "\n",
       "    .dataframe tbody tr th {\n",
       "        vertical-align: top;\n",
       "    }\n",
       "\n",
       "    .dataframe thead th {\n",
       "        text-align: right;\n",
       "    }\n",
       "</style>\n",
       "<table border=\"1\" class=\"dataframe\">\n",
       "  <thead>\n",
       "    <tr style=\"text-align: right;\">\n",
       "      <th></th>\n",
       "      <th>Actual</th>\n",
       "      <th>Predicted</th>\n",
       "    </tr>\n",
       "  </thead>\n",
       "  <tbody>\n",
       "    <tr>\n",
       "      <th>0</th>\n",
       "      <td>3.25</td>\n",
       "      <td>3.213013</td>\n",
       "    </tr>\n",
       "    <tr>\n",
       "      <th>1</th>\n",
       "      <td>3.25</td>\n",
       "      <td>3.145059</td>\n",
       "    </tr>\n",
       "    <tr>\n",
       "      <th>2</th>\n",
       "      <td>3.00</td>\n",
       "      <td>3.185831</td>\n",
       "    </tr>\n",
       "    <tr>\n",
       "      <th>3</th>\n",
       "      <td>3.25</td>\n",
       "      <td>3.213013</td>\n",
       "    </tr>\n",
       "    <tr>\n",
       "      <th>4</th>\n",
       "      <td>2.50</td>\n",
       "      <td>3.213013</td>\n",
       "    </tr>\n",
       "    <tr>\n",
       "      <th>5</th>\n",
       "      <td>2.75</td>\n",
       "      <td>3.145059</td>\n",
       "    </tr>\n",
       "    <tr>\n",
       "      <th>6</th>\n",
       "      <td>3.50</td>\n",
       "      <td>3.145059</td>\n",
       "    </tr>\n",
       "    <tr>\n",
       "      <th>7</th>\n",
       "      <td>3.75</td>\n",
       "      <td>3.185831</td>\n",
       "    </tr>\n",
       "    <tr>\n",
       "      <th>8</th>\n",
       "      <td>2.75</td>\n",
       "      <td>3.145059</td>\n",
       "    </tr>\n",
       "    <tr>\n",
       "      <th>9</th>\n",
       "      <td>3.25</td>\n",
       "      <td>3.213013</td>\n",
       "    </tr>\n",
       "    <tr>\n",
       "      <th>10</th>\n",
       "      <td>3.75</td>\n",
       "      <td>3.240195</td>\n",
       "    </tr>\n",
       "    <tr>\n",
       "      <th>11</th>\n",
       "      <td>3.00</td>\n",
       "      <td>3.145059</td>\n",
       "    </tr>\n",
       "    <tr>\n",
       "      <th>12</th>\n",
       "      <td>3.25</td>\n",
       "      <td>2.941195</td>\n",
       "    </tr>\n",
       "    <tr>\n",
       "      <th>13</th>\n",
       "      <td>3.50</td>\n",
       "      <td>3.213013</td>\n",
       "    </tr>\n",
       "    <tr>\n",
       "      <th>14</th>\n",
       "      <td>3.25</td>\n",
       "      <td>3.280968</td>\n",
       "    </tr>\n",
       "    <tr>\n",
       "      <th>15</th>\n",
       "      <td>3.00</td>\n",
       "      <td>3.213013</td>\n",
       "    </tr>\n",
       "    <tr>\n",
       "      <th>16</th>\n",
       "      <td>2.50</td>\n",
       "      <td>3.213013</td>\n",
       "    </tr>\n",
       "    <tr>\n",
       "      <th>17</th>\n",
       "      <td>3.00</td>\n",
       "      <td>3.213013</td>\n",
       "    </tr>\n",
       "    <tr>\n",
       "      <th>18</th>\n",
       "      <td>3.25</td>\n",
       "      <td>3.185831</td>\n",
       "    </tr>\n",
       "    <tr>\n",
       "      <th>19</th>\n",
       "      <td>3.25</td>\n",
       "      <td>3.185831</td>\n",
       "    </tr>\n",
       "    <tr>\n",
       "      <th>20</th>\n",
       "      <td>3.00</td>\n",
       "      <td>3.416877</td>\n",
       "    </tr>\n",
       "    <tr>\n",
       "      <th>21</th>\n",
       "      <td>3.50</td>\n",
       "      <td>3.213013</td>\n",
       "    </tr>\n",
       "    <tr>\n",
       "      <th>22</th>\n",
       "      <td>3.50</td>\n",
       "      <td>3.294559</td>\n",
       "    </tr>\n",
       "    <tr>\n",
       "      <th>23</th>\n",
       "      <td>3.25</td>\n",
       "      <td>3.117877</td>\n",
       "    </tr>\n",
       "    <tr>\n",
       "      <th>24</th>\n",
       "      <td>3.50</td>\n",
       "      <td>3.335332</td>\n",
       "    </tr>\n",
       "    <tr>\n",
       "      <th>25</th>\n",
       "      <td>3.50</td>\n",
       "      <td>3.036331</td>\n",
       "    </tr>\n",
       "    <tr>\n",
       "      <th>26</th>\n",
       "      <td>3.50</td>\n",
       "      <td>3.145059</td>\n",
       "    </tr>\n",
       "    <tr>\n",
       "      <th>27</th>\n",
       "      <td>3.25</td>\n",
       "      <td>3.213013</td>\n",
       "    </tr>\n",
       "    <tr>\n",
       "      <th>28</th>\n",
       "      <td>3.50</td>\n",
       "      <td>3.213013</td>\n",
       "    </tr>\n",
       "    <tr>\n",
       "      <th>29</th>\n",
       "      <td>3.50</td>\n",
       "      <td>3.280968</td>\n",
       "    </tr>\n",
       "  </tbody>\n",
       "</table>\n",
       "</div>"
      ],
      "text/plain": [
       "    Actual  Predicted\n",
       "0     3.25   3.213013\n",
       "1     3.25   3.145059\n",
       "2     3.00   3.185831\n",
       "3     3.25   3.213013\n",
       "4     2.50   3.213013\n",
       "5     2.75   3.145059\n",
       "6     3.50   3.145059\n",
       "7     3.75   3.185831\n",
       "8     2.75   3.145059\n",
       "9     3.25   3.213013\n",
       "10    3.75   3.240195\n",
       "11    3.00   3.145059\n",
       "12    3.25   2.941195\n",
       "13    3.50   3.213013\n",
       "14    3.25   3.280968\n",
       "15    3.00   3.213013\n",
       "16    2.50   3.213013\n",
       "17    3.00   3.213013\n",
       "18    3.25   3.185831\n",
       "19    3.25   3.185831\n",
       "20    3.00   3.416877\n",
       "21    3.50   3.213013\n",
       "22    3.50   3.294559\n",
       "23    3.25   3.117877\n",
       "24    3.50   3.335332\n",
       "25    3.50   3.036331\n",
       "26    3.50   3.145059\n",
       "27    3.25   3.213013\n",
       "28    3.50   3.213013\n",
       "29    3.50   3.280968"
      ]
     },
     "execution_count": 80,
     "metadata": {},
     "output_type": "execute_result"
    }
   ],
   "source": [
    "data = pd.DataFrame({'Actual': y_test.flatten(), 'Predicted': y_predicted.flatten()})\n",
    "data.head(30)"
   ]
  },
  {
   "cell_type": "markdown",
   "id": "ee1b9516",
   "metadata": {},
   "source": [
    "##### Compare how the regression fits the training set"
   ]
  },
  {
   "cell_type": "markdown",
   "id": "2c0f2135",
   "metadata": {},
   "source": [
    "#### Predict"
   ]
  },
  {
   "cell_type": "code",
   "execution_count": 81,
   "id": "9b9b20e1",
   "metadata": {},
   "outputs": [],
   "source": [
    "y_predicted_train = regression.predict(X_train) ## This is predicting X_train"
   ]
  },
  {
   "cell_type": "code",
   "execution_count": 82,
   "id": "84cd10d1",
   "metadata": {},
   "outputs": [],
   "source": [
    "rmse = mean_squared_error(y_train, y_predicted_train) \n",
    "r2 = r2_score(y_train, y_predicted_train)"
   ]
  },
  {
   "cell_type": "code",
   "execution_count": 83,
   "id": "e7880c27",
   "metadata": {},
   "outputs": [
    {
     "name": "stdout",
     "output_type": "stream",
     "text": [
      "Slope: [[-0.01359092]]\n",
      "Mean squared error:  0.22215728569470164\n",
      "R2 score:  0.03197903267614899\n"
     ]
    }
   ],
   "source": [
    "print('Slope:' ,regression.coef_)\n",
    "print('Mean squared error: ', rmse)\n",
    "print('R2 score: ', r2)"
   ]
  },
  {
   "cell_type": "markdown",
   "id": "c1769d9f",
   "metadata": {},
   "source": [
    "#### The models' outcome on the training set is similar to that of the one we have in the test set. Even more, the data points are more separated here than in the other set. This confirms that the model is not applicable either."
   ]
  },
  {
   "cell_type": "markdown",
   "id": "4734c5f9",
   "metadata": {},
   "source": [
    "#### Visualizing the training set results"
   ]
  },
  {
   "cell_type": "code",
   "execution_count": 84,
   "id": "1a370e19",
   "metadata": {},
   "outputs": [
    {
     "data": {
      "image/png": "[encoded data removed]",
      "text/plain": [
       "<Figure size 640x480 with 1 Axes>"
      ]
     },
     "metadata": {},
     "output_type": "display_data"
    }
   ],
   "source": [
    "plot_test = plt\n",
    "plot_test.scatter(X_train, y_train, color='green', s = 15)\n",
    "plot_test.plot(X_train, y_predicted_train, color='red', linewidth =3)\n",
    "plot_test.title('Cocoa Percent vs Rating (Train set)')\n",
    "plot_test.xlabel('Cocoa Percent')\n",
    "plot_test.ylabel('Rating')\n",
    "plot_test.show()"
   ]
  },
  {
   "cell_type": "markdown",
   "id": "5f3d6556",
   "metadata": {},
   "source": [
    "#### We are not able to affirm that Cocoa Percent affects chcolate Ratings. It's possible that we need to have more data points or more source data in order to make better assumpions."
   ]
  },
  {
   "cell_type": "markdown",
   "id": "b06c1c61",
   "metadata": {},
   "source": [
    "#### 5. Exporting the data"
   ]
  },
  {
   "cell_type": "code",
   "execution_count": 85,
   "id": "4551617e",
   "metadata": {},
   "outputs": [],
   "source": [
    "df4.to_pickle(os.path.join(path, 'flavors_of_cacao_regresion.pkl'))"
   ]
  },
  {
   "cell_type": "code",
   "execution_count": null,
   "id": "51a23685",
   "metadata": {},
   "outputs": [],
   "source": []
  }
 ],
 "metadata": {
  "kernelspec": {
   "display_name": "Python 3 (ipykernel)",
   "language": "python",
   "name": "python3"
  },
  "language_info": {
   "codemirror_mode": {
    "name": "ipython",
    "version": 3
   },
   "file_extension": ".py",
   "mimetype": "text/x-python",
   "name": "python",
   "nbconvert_exporter": "python",
   "pygments_lexer": "ipython3",
   "version": "3.9.13"
  }
 },
 "nbformat": 4,
 "nbformat_minor": 5
}
